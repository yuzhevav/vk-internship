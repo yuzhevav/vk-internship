{
  "cells": [
    {
      "cell_type": "code",
      "execution_count": 3,
      "metadata": {
        "id": "g-oTFeJuB4jr"
      },
      "outputs": [],
      "source": [
        "import pandas as pd\n",
        "import matplotlib.pyplot as plt\n",
        "import seaborn as sns\n",
        "import numpy as np\n",
        "from sklearn.model_selection import train_test_split\n",
        "import re\n",
        "from catboost import Pool, CatBoostRanker"
      ]
    },
    {
      "cell_type": "markdown",
      "metadata": {
        "id": "pIm95NjMD4Up"
      },
      "source": [
        "Даны два датасета: train, test (скачать по ссылке). \\\n",
        "Поля датасета: \\\n",
        "\n",
        "*   search_id - айди поиска (айди группы, которая связана с набором\n",
        "объектов),\n",
        "*   feature_0-78 - признаки этих объектов,\n",
        "*   target - целевая переменная (допустим клик по этому объекту).\n",
        "\n",
        "Задача:\n",
        "\n",
        "*   обучить модель для релевантной выдачи (можно выбрать любой алгоритм, библиотеку или фреймворк),\n",
        "*   посчитать метрику NDCG (для всех документов, не конкретного топа) на тестовом датасете,\n",
        "*   выложить код на https://github.com отдельным проектом и поделиться ссылкой в поле для ответа.\n",
        "\n",
        "Будет плюсом, если решение завернуть в docker."
      ]
    },
    {
      "cell_type": "code",
      "execution_count": 227,
      "metadata": {
        "id": "ewrtkgzsCFYk"
      },
      "outputs": [],
      "source": [
        "train_df = pd.read_csv('/content/train_df.csv')"
      ]
    },
    {
      "cell_type": "markdown",
      "source": [
        "Исходя из условия задачи, считаю, что самым подходящим вариантом модели будет CatBoostRanker. Преимущества этой модели по моему мнению:\n",
        "\n",
        "*   Решает задачи ранжирования, а у нас именно такая задача\n",
        "*   По умолчанию считает мтерику NDCG, которую нам необходимо оптимизировать\n",
        "\n"
      ],
      "metadata": {
        "id": "jW8RkGYD7GHP"
      }
    },
    {
      "cell_type": "markdown",
      "source": [
        "# CatBoostRanker без предварительной обработки данных"
      ],
      "metadata": {
        "id": "q8tEBJiIJFPv"
      }
    },
    {
      "cell_type": "markdown",
      "source": [
        "Сначала обучим CatBoostRanker, никак не обрабатывая данные и не подбирая гиперпараметры. Это будет наш baseline."
      ],
      "metadata": {
        "id": "dPVs5qU-6pQk"
      }
    },
    {
      "cell_type": "code",
      "source": [
        "def split_and_pool(train_df: pd.DataFrame, cat_cols=None) -> Pool:\n",
        "    \"\"\"\n",
        "    Функция принимает на вход pd.DataFrame,\n",
        "    разделяет данные на обучающую и валидационную выборки,\n",
        "    помещает все в catboost.Pool и возвращает эти объекты\n",
        "    \"\"\"\n",
        "    X = train_df.drop('target', axis=1)\n",
        "    y = train_df['target']\n",
        "\n",
        "    X_train, X_val, y_train, y_val = train_test_split(X, y, test_size=0.2, random_state=42, shuffle=False)\n",
        "\n",
        "    group_train = X_train['search_id'].values\n",
        "    X_train.drop('search_id', axis=1, inplace=True)\n",
        "    group_val = X_val['search_id'].values\n",
        "    X_val.drop('search_id', axis=1, inplace=True)\n",
        "\n",
        "    train_pool = Pool(data=X_train,\n",
        "                    label = y_train,\n",
        "                    group_id=group_train)\n",
        "\n",
        "    eval_pool = Pool(data=X_val,\n",
        "                    label = y_val,\n",
        "                    group_id=group_val)\n",
        "\n",
        "    if cat_cols:\n",
        "        train_pool = Pool(data=X_train,\n",
        "                          label = y_train,\n",
        "                          group_id=group_train,\n",
        "                          cat_features=cat_cols)\n",
        "\n",
        "        eval_pool = Pool(data=X_val,\n",
        "                         label = y_val,\n",
        "                         group_id=group_val,\n",
        "                         cat_features=cat_cols)\n",
        "\n",
        "    return train_pool, eval_pool"
      ],
      "metadata": {
        "id": "7T7AlleqD_S8"
      },
      "execution_count": 256,
      "outputs": []
    },
    {
      "cell_type": "code",
      "source": [
        "train_pool, eval_pool = split_and_pool(train_df)"
      ],
      "metadata": {
        "id": "tyZsi5PYEi15"
      },
      "execution_count": 229,
      "outputs": []
    },
    {
      "cell_type": "markdown",
      "source": [
        "В параметрах укажем только оптимизацию по метрике NDCG и random_seed:"
      ],
      "metadata": {
        "id": "Rmdj3P_bCljr"
      }
    },
    {
      "cell_type": "code",
      "execution_count": 230,
      "metadata": {
        "id": "GA_MstrjUgqC"
      },
      "outputs": [],
      "source": [
        "params = {\n",
        "    'custom_metric': 'NDCG',\n",
        "    'random_seed': 42\n",
        "}"
      ]
    },
    {
      "cell_type": "code",
      "execution_count": null,
      "metadata": {
        "id": "ATJ4_LaLMwsl"
      },
      "outputs": [],
      "source": [
        "model = CatBoostRanker(**params)\n",
        "model.fit(train_pool, eval_set=eval_pool, verbose=False)"
      ]
    },
    {
      "cell_type": "markdown",
      "source": [
        "Проверим NDCG мтерику на тесте. В CatBoostRanker при вызове метода score() считается именно эта метрика."
      ],
      "metadata": {
        "id": "ciawLQW0CTSB"
      }
    },
    {
      "cell_type": "code",
      "execution_count": 260,
      "metadata": {
        "id": "FWPF2-ckRkJk"
      },
      "outputs": [],
      "source": [
        "test_df = pd.read_csv('test_df.csv')"
      ]
    },
    {
      "cell_type": "code",
      "execution_count": 234,
      "metadata": {
        "id": "zN3BzFD0RkGP"
      },
      "outputs": [],
      "source": [
        "group_test = test_df['search_id'].values\n",
        "X_test = test_df.drop(['search_id', 'target'], axis=1)\n",
        "y_test = test_df['target']"
      ]
    },
    {
      "cell_type": "code",
      "source": [
        "test_pool = Pool(X_test, y_test, group_id=group_test)\n",
        "model.score(test_pool)"
      ],
      "metadata": {
        "colab": {
          "base_uri": "https://localhost:8080/"
        },
        "id": "T4KYfsq7Pr5I",
        "outputId": "fa8f3a1f-e7c8-4bff-bc8c-053b5262580f"
      },
      "execution_count": 235,
      "outputs": [
        {
          "output_type": "execute_result",
          "data": {
            "text/plain": [
              "0.9306260723135041"
            ]
          },
          "metadata": {},
          "execution_count": 235
        }
      ]
    },
    {
      "cell_type": "markdown",
      "source": [
        "**NDCG = 0.9306260723135041**"
      ],
      "metadata": {
        "id": "oo5QW7BRT5CA"
      }
    },
    {
      "cell_type": "markdown",
      "source": [
        "# Предобработка"
      ],
      "metadata": {
        "id": "rO6bOd6cx0c1"
      }
    },
    {
      "cell_type": "markdown",
      "source": [
        "Теперь попробуем добавить предобработку данных."
      ],
      "metadata": {
        "id": "qlBGWC76JR75"
      }
    },
    {
      "cell_type": "markdown",
      "metadata": {
        "id": "OXIX6PbvL0Cn"
      },
      "source": [
        "Первым делом посмотрим на пустые значения:"
      ]
    },
    {
      "cell_type": "code",
      "execution_count": 236,
      "metadata": {
        "colab": {
          "base_uri": "https://localhost:8080/"
        },
        "id": "giUhrInFCdp8",
        "outputId": "b4d47bd9-1484-4394-c25c-0c6ad01178fc"
      },
      "outputs": [
        {
          "output_type": "execute_result",
          "data": {
            "text/plain": [
              "0"
            ]
          },
          "metadata": {},
          "execution_count": 236
        }
      ],
      "source": [
        "train_df.isna().sum().sum()"
      ]
    },
    {
      "cell_type": "markdown",
      "metadata": {
        "id": "8_Y_n6CRLpne"
      },
      "source": [
        "Если в признаке хранится только одно уникальное значение, то этот он бесполезен, избавимся от таких признаков:"
      ]
    },
    {
      "cell_type": "code",
      "source": [
        "drop_cols = []"
      ],
      "metadata": {
        "id": "s8ZGOp9byzOt"
      },
      "execution_count": 237,
      "outputs": []
    },
    {
      "cell_type": "code",
      "source": [
        "def find_const_cols(df: pd.DataFrame, drop_cols: list) -> list:\n",
        "    for col in df.columns:\n",
        "        if (df[col].nunique() == 1):\n",
        "            drop_cols.append(col)\n",
        "\n",
        "    return drop_cols"
      ],
      "metadata": {
        "id": "bE-CIigcx_Ik"
      },
      "execution_count": 238,
      "outputs": []
    },
    {
      "cell_type": "code",
      "source": [
        "drop_cols = find_const_cols(train_df, drop_cols)"
      ],
      "metadata": {
        "id": "5Yx3FTaUy1Qo"
      },
      "execution_count": 239,
      "outputs": []
    },
    {
      "cell_type": "markdown",
      "metadata": {
        "id": "UFaf7UWCMKKJ"
      },
      "source": [
        "Как видим, у нас 4 таких признака:"
      ]
    },
    {
      "cell_type": "code",
      "execution_count": 240,
      "metadata": {
        "id": "XRcF0Uk6LoIE",
        "colab": {
          "base_uri": "https://localhost:8080/"
        },
        "outputId": "6846226a-e37e-4572-8c90-a17d4595f248"
      },
      "outputs": [
        {
          "output_type": "execute_result",
          "data": {
            "text/plain": [
              "['feature_0', 'feature_73', 'feature_74', 'feature_75']"
            ]
          },
          "metadata": {},
          "execution_count": 240
        }
      ],
      "source": [
        "drop_cols"
      ]
    },
    {
      "cell_type": "markdown",
      "metadata": {
        "id": "i0PZSX85OAdC"
      },
      "source": [
        "Посмотрим на матрицу корреляций:"
      ]
    },
    {
      "cell_type": "code",
      "execution_count": 241,
      "metadata": {
        "id": "HvBcKAVfMRZZ",
        "colab": {
          "base_uri": "https://localhost:8080/",
          "height": 666
        },
        "outputId": "edc5bbf1-e16a-4635-a3b5-dc4e23c6364d"
      },
      "outputs": [
        {
          "output_type": "display_data",
          "data": {
            "text/plain": [
              "<Figure size 1000x700 with 2 Axes>"
            ],
            "image/png": "[encoded data removed]"
          },
          "metadata": {}
        }
      ],
      "source": [
        "plt.figure(figsize=(10, 7))\n",
        "sns.heatmap(train_df.drop(drop_cols, axis=1).corr());"
      ]
    },
    {
      "cell_type": "markdown",
      "metadata": {
        "id": "7SOh6O4FN_3r"
      },
      "source": [
        "Посмотрим на фичи, корреляция между которыми равна единице:"
      ]
    },
    {
      "cell_type": "code",
      "execution_count": 243,
      "metadata": {
        "id": "rzeM_99EMooK",
        "colab": {
          "base_uri": "https://localhost:8080/"
        },
        "outputId": "902bad4d-fe9a-4ca9-c0c9-e56d7e039a72"
      },
      "outputs": [
        {
          "output_type": "stream",
          "name": "stdout",
          "text": [
            "Сorrelation between feature_3 and feature_4  = 1\n"
          ]
        }
      ],
      "source": [
        "for col_i in train_df.columns:\n",
        "    for col_j in train_df.columns:\n",
        "        if ((np.corrcoef(train_df[col_i], train_df[col_j])[0, 1]) == 1) \\\n",
        "        and (col_i != col_j) \\\n",
        "        and (re.split('_', col_i)[-1] < re.split('_', col_j)[-1]):\n",
        "            print(\"Сorrelation between\", col_i, \"and\", col_j, \" = 1\")"
      ]
    },
    {
      "cell_type": "markdown",
      "metadata": {
        "id": "wI6e0PZMPf84"
      },
      "source": [
        "Видим, что 3 и 4 фичи полностью коррелируют. Одну из них нужно удалить."
      ]
    },
    {
      "cell_type": "code",
      "execution_count": 244,
      "metadata": {
        "id": "vUk9anohORdD"
      },
      "outputs": [],
      "source": [
        "drop_cols.append('feature_4')"
      ]
    },
    {
      "cell_type": "markdown",
      "source": [
        "Удалим дубликаты:"
      ],
      "metadata": {
        "id": "NV0dLpnaDfod"
      }
    },
    {
      "cell_type": "code",
      "source": [
        "train_df.drop_duplicates(inplace=True)"
      ],
      "metadata": {
        "id": "IcTluMJE_Lis"
      },
      "execution_count": 246,
      "outputs": []
    },
    {
      "cell_type": "markdown",
      "metadata": {
        "id": "4_PYhgEgUuBY"
      },
      "source": [
        "А теперь удалим ненужные фичи:"
      ]
    },
    {
      "cell_type": "code",
      "execution_count": 247,
      "metadata": {
        "id": "apxxbC-4TT8Q"
      },
      "outputs": [],
      "source": [
        "train_df.drop(drop_cols, axis=1, inplace=True)"
      ]
    },
    {
      "cell_type": "markdown",
      "metadata": {
        "id": "KuXs_dY8giKV"
      },
      "source": [
        "Преполложем, что если в признаке меньше 30 уникальных значений и тип столбца integer, то этот признак категориальный."
      ]
    },
    {
      "cell_type": "code",
      "source": [
        "def find_cat_cols(df: pd.DataFrame, n=30) -> list:\n",
        "    cat_cols = []\n",
        "    for col in df.drop('target', axis=1).columns:\n",
        "        if (df[col].nunique() < n) and (df[col].dtypes == int):\n",
        "            cat_cols.append(col)\n",
        "\n",
        "    return cat_cols"
      ],
      "metadata": {
        "id": "nZ5ow_fm5I2I"
      },
      "execution_count": 248,
      "outputs": []
    },
    {
      "cell_type": "code",
      "source": [
        "cat_cols = find_cat_cols(train_df)"
      ],
      "metadata": {
        "id": "twYyBVdf6AvM"
      },
      "execution_count": 249,
      "outputs": []
    },
    {
      "cell_type": "code",
      "source": [
        "cat_cols"
      ],
      "metadata": {
        "id": "nvP6nroFdLBI",
        "colab": {
          "base_uri": "https://localhost:8080/"
        },
        "outputId": "ee7a60bc-4566-43c1-fbc1-0d2584971e22"
      },
      "execution_count": 250,
      "outputs": [
        {
          "output_type": "execute_result",
          "data": {
            "text/plain": [
              "['feature_1',\n",
              " 'feature_2',\n",
              " 'feature_3',\n",
              " 'feature_5',\n",
              " 'feature_7',\n",
              " 'feature_8',\n",
              " 'feature_9',\n",
              " 'feature_10',\n",
              " 'feature_11',\n",
              " 'feature_12',\n",
              " 'feature_13',\n",
              " 'feature_14',\n",
              " 'feature_15']"
            ]
          },
          "metadata": {},
          "execution_count": 250
        }
      ]
    },
    {
      "cell_type": "markdown",
      "source": [
        "# CatBoostRanker с обработкой данных"
      ],
      "metadata": {
        "id": "f2gLBTIOROH5"
      }
    },
    {
      "cell_type": "markdown",
      "source": [
        "Обучим модель, указав категориальные признаки:"
      ],
      "metadata": {
        "id": "9BlJ7aafDwYj"
      }
    },
    {
      "cell_type": "code",
      "source": [
        "train_pool, eval_pool = split_and_pool(train_df, cat_cols=cat_cols)"
      ],
      "metadata": {
        "id": "nzkb9yi8boMZ"
      },
      "execution_count": 257,
      "outputs": []
    },
    {
      "cell_type": "code",
      "execution_count": null,
      "metadata": {
        "id": "buZcuGjEHGau"
      },
      "outputs": [],
      "source": [
        "model = CatBoostRanker(**params)\n",
        "model.fit(train_pool, eval_set=eval_pool, verbose=False)"
      ]
    },
    {
      "cell_type": "markdown",
      "source": [
        "Проверим NDCG на тесте:"
      ],
      "metadata": {
        "id": "SFG3kja9HGa6"
      }
    },
    {
      "cell_type": "code",
      "execution_count": 261,
      "metadata": {
        "id": "Hoo2LObNHGa6"
      },
      "outputs": [],
      "source": [
        "test_df.drop(drop_cols, axis=1, inplace=True)"
      ]
    },
    {
      "cell_type": "code",
      "execution_count": 262,
      "metadata": {
        "id": "G6a0-VNqHGa6"
      },
      "outputs": [],
      "source": [
        "group_test = test_df['search_id'].values\n",
        "X_test = test_df.drop(['search_id', 'target'], axis=1)\n",
        "y_test = test_df['target']"
      ]
    },
    {
      "cell_type": "code",
      "source": [
        "test_pool = Pool(X_test, y_test, group_id=group_test, cat_features=cat_cols)\n",
        "model.score(test_pool)"
      ],
      "metadata": {
        "colab": {
          "base_uri": "https://localhost:8080/"
        },
        "outputId": "98341d74-64d3-442f-c33c-40889ccbf9e4",
        "id": "qScJPMi7HGa7"
      },
      "execution_count": 263,
      "outputs": [
        {
          "output_type": "execute_result",
          "data": {
            "text/plain": [
              "0.892848366814504"
            ]
          },
          "metadata": {},
          "execution_count": 263
        }
      ]
    },
    {
      "cell_type": "markdown",
      "source": [
        "Как видим, на тесте метрика упала. В черновике я пыталась по-разному комбинировать обратоку данных, но ничего не дало прироста в скоре. \\\n",
        "Исходя из этого могу лишь сделать вывод о том, что данные достаточно чистые и не требуют обработки. \\\n",
        "Также пробовала подбирать гиперпараметры, изменять лосс-функции, но скор только падал."
      ],
      "metadata": {
        "id": "qBUKr63dKon5"
      }
    },
    {
      "cell_type": "code",
      "source": [],
      "metadata": {
        "id": "qHlGs8rhHb4a"
      },
      "execution_count": null,
      "outputs": []
    }
  ],
  "metadata": {
    "colab": {
      "provenance": []
    },
    "kernelspec": {
      "display_name": "Python 3",
      "name": "python3"
    },
    "language_info": {
      "name": "python"
    }
  },
  "nbformat": 4,
  "nbformat_minor": 0
}